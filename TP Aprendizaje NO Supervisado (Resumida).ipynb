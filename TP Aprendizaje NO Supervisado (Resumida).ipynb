{
 "cells": [
  {
   "cell_type": "code",
   "execution_count": 1,
   "metadata": {},
   "outputs": [],
   "source": [
    "import pandas as pd\n",
    "pd.options.display.float_format = '{:.2f}'.format\n",
    "from sklearn.preprocessing import MultiLabelBinarizer\n",
    "import numpy as np\n",
    "import sys\n",
    "from itertools import combinations, groupby\n",
    "from collections import Counter\n",
    "from IPython.display import display\n",
    "from efficient_apriori import apriori"
   ]
  },
  {
   "cell_type": "markdown",
   "metadata": {},
   "source": [
    "## Dataset de Películas:"
   ]
  },
  {
   "cell_type": "code",
   "execution_count": 2,
   "metadata": {},
   "outputs": [
    {
     "data": {
      "text/html": [
       "<div>\n",
       "<style scoped>\n",
       "    .dataframe tbody tr th:only-of-type {\n",
       "        vertical-align: middle;\n",
       "    }\n",
       "\n",
       "    .dataframe tbody tr th {\n",
       "        vertical-align: top;\n",
       "    }\n",
       "\n",
       "    .dataframe thead th {\n",
       "        text-align: right;\n",
       "    }\n",
       "</style>\n",
       "<table border=\"1\" class=\"dataframe\">\n",
       "  <thead>\n",
       "    <tr style=\"text-align: right;\">\n",
       "      <th></th>\n",
       "      <th>movieId</th>\n",
       "      <th>title</th>\n",
       "      <th>genres</th>\n",
       "    </tr>\n",
       "  </thead>\n",
       "  <tbody>\n",
       "    <tr>\n",
       "      <th>10069</th>\n",
       "      <td>33226</td>\n",
       "      <td>Zatoichi Meets the One-Armed Swordsman (Shin z...</td>\n",
       "      <td>Action|Adventure|Drama</td>\n",
       "    </tr>\n",
       "    <tr>\n",
       "      <th>21516</th>\n",
       "      <td>104372</td>\n",
       "      <td>Cry in the Night, A (1956)</td>\n",
       "      <td>Crime|Drama|Film-Noir</td>\n",
       "    </tr>\n",
       "    <tr>\n",
       "      <th>24037</th>\n",
       "      <td>114028</td>\n",
       "      <td>Pride (2014)</td>\n",
       "      <td>Comedy|Drama</td>\n",
       "    </tr>\n",
       "    <tr>\n",
       "      <th>23512</th>\n",
       "      <td>111913</td>\n",
       "      <td>Lilting (2014)</td>\n",
       "      <td>Drama</td>\n",
       "    </tr>\n",
       "    <tr>\n",
       "      <th>23832</th>\n",
       "      <td>113220</td>\n",
       "      <td>Dog, The (2013)</td>\n",
       "      <td>Documentary</td>\n",
       "    </tr>\n",
       "  </tbody>\n",
       "</table>\n",
       "</div>"
      ],
      "text/plain": [
       "       movieId                                              title  \\\n",
       "10069    33226  Zatoichi Meets the One-Armed Swordsman (Shin z...   \n",
       "21516   104372                         Cry in the Night, A (1956)   \n",
       "24037   114028                                       Pride (2014)   \n",
       "23512   111913                                     Lilting (2014)   \n",
       "23832   113220                                    Dog, The (2013)   \n",
       "\n",
       "                       genres  \n",
       "10069  Action|Adventure|Drama  \n",
       "21516   Crime|Drama|Film-Noir  \n",
       "24037            Comedy|Drama  \n",
       "23512                   Drama  \n",
       "23832             Documentary  "
      ]
     },
     "execution_count": 2,
     "metadata": {},
     "output_type": "execute_result"
    }
   ],
   "source": [
    "Peliculas = pd.read_csv(\"C:/Users/Macarena/Desktop/Nueva carpeta/movies.csv\")\n",
    "Peliculas.sample(5)"
   ]
  },
  {
   "cell_type": "markdown",
   "metadata": {},
   "source": [
    "Separamos los datos que vienen en una única columna pero podrían requerirse analizar por separado, como son el Año del Título."
   ]
  },
  {
   "cell_type": "code",
   "execution_count": 3,
   "metadata": {},
   "outputs": [
    {
     "data": {
      "text/html": [
       "<div>\n",
       "<style scoped>\n",
       "    .dataframe tbody tr th:only-of-type {\n",
       "        vertical-align: middle;\n",
       "    }\n",
       "\n",
       "    .dataframe tbody tr th {\n",
       "        vertical-align: top;\n",
       "    }\n",
       "\n",
       "    .dataframe thead th {\n",
       "        text-align: right;\n",
       "    }\n",
       "</style>\n",
       "<table border=\"1\" class=\"dataframe\">\n",
       "  <thead>\n",
       "    <tr style=\"text-align: right;\">\n",
       "      <th></th>\n",
       "      <th>movieId</th>\n",
       "      <th>title</th>\n",
       "      <th>genres</th>\n",
       "      <th>year</th>\n",
       "    </tr>\n",
       "  </thead>\n",
       "  <tbody>\n",
       "    <tr>\n",
       "      <th>11973</th>\n",
       "      <td>53999</td>\n",
       "      <td>Captivity</td>\n",
       "      <td>Crime|Thriller</td>\n",
       "      <td>2007</td>\n",
       "    </tr>\n",
       "    <tr>\n",
       "      <th>10317</th>\n",
       "      <td>34583</td>\n",
       "      <td>Prime Cut</td>\n",
       "      <td>Action|Crime|Drama</td>\n",
       "      <td>1972</td>\n",
       "    </tr>\n",
       "    <tr>\n",
       "      <th>16509</th>\n",
       "      <td>83381</td>\n",
       "      <td>Seven Thieves</td>\n",
       "      <td>Crime|Drama</td>\n",
       "      <td>1960</td>\n",
       "    </tr>\n",
       "    <tr>\n",
       "      <th>2962</th>\n",
       "      <td>3049</td>\n",
       "      <td>How I Won the War</td>\n",
       "      <td>Comedy|War</td>\n",
       "      <td>1967</td>\n",
       "    </tr>\n",
       "    <tr>\n",
       "      <th>5096</th>\n",
       "      <td>5193</td>\n",
       "      <td>Jazz Singer, The</td>\n",
       "      <td>Musical</td>\n",
       "      <td>1980</td>\n",
       "    </tr>\n",
       "  </tbody>\n",
       "</table>\n",
       "</div>"
      ],
      "text/plain": [
       "       movieId              title              genres  year\n",
       "11973    53999          Captivity      Crime|Thriller  2007\n",
       "10317    34583          Prime Cut  Action|Crime|Drama  1972\n",
       "16509    83381      Seven Thieves         Crime|Drama  1960\n",
       "2962      3049  How I Won the War          Comedy|War  1967\n",
       "5096      5193   Jazz Singer, The             Musical  1980"
      ]
     },
     "execution_count": 3,
     "metadata": {},
     "output_type": "execute_result"
    }
   ],
   "source": [
    "Peliculas_temp1 = []\n",
    "Peliculas_temp2 = []\n",
    "for row in Peliculas[\"title\"]:\n",
    "    temp1 = len(row)\n",
    "    Peliculas_temp1.append(row[:temp1 - 7])\n",
    "    Peliculas_temp2.append(row[temp1 - 5:temp1 - 1])\n",
    "Peliculas[\"title\"] = Peliculas_temp1\n",
    "Peliculas[\"year\"] = Peliculas_temp2\n",
    "Peliculas.sample(5)"
   ]
  },
  {
   "cell_type": "markdown",
   "metadata": {},
   "source": [
    "En caso del Género, existen valores que en si no representan un género real y decidimos reemplazarlos por Null, estos son (no genres listed) e IMAX. Además los valores los convertimos en columnas binarias, identificando si aplica o no al género en cuestión."
   ]
  },
  {
   "cell_type": "code",
   "execution_count": 4,
   "metadata": {},
   "outputs": [
    {
     "data": {
      "text/html": [
       "<div>\n",
       "<style scoped>\n",
       "    .dataframe tbody tr th:only-of-type {\n",
       "        vertical-align: middle;\n",
       "    }\n",
       "\n",
       "    .dataframe tbody tr th {\n",
       "        vertical-align: top;\n",
       "    }\n",
       "\n",
       "    .dataframe thead th {\n",
       "        text-align: right;\n",
       "    }\n",
       "</style>\n",
       "<table border=\"1\" class=\"dataframe\">\n",
       "  <thead>\n",
       "    <tr style=\"text-align: right;\">\n",
       "      <th></th>\n",
       "      <th>genres</th>\n",
       "      <th>year</th>\n",
       "      <th>(no genres listed)</th>\n",
       "      <th>Action</th>\n",
       "      <th>Adventure</th>\n",
       "      <th>Animation</th>\n",
       "      <th>Children</th>\n",
       "      <th>Comedy</th>\n",
       "      <th>Crime</th>\n",
       "      <th>Documentary</th>\n",
       "      <th>...</th>\n",
       "      <th>Film-Noir</th>\n",
       "      <th>Horror</th>\n",
       "      <th>IMAX</th>\n",
       "      <th>Musical</th>\n",
       "      <th>Mystery</th>\n",
       "      <th>Romance</th>\n",
       "      <th>Sci-Fi</th>\n",
       "      <th>Thriller</th>\n",
       "      <th>War</th>\n",
       "      <th>Western</th>\n",
       "    </tr>\n",
       "  </thead>\n",
       "  <tbody>\n",
       "    <tr>\n",
       "      <th>11314</th>\n",
       "      <td>Animation|Children|Comedy|Musical</td>\n",
       "      <td>1972</td>\n",
       "      <td>0</td>\n",
       "      <td>0</td>\n",
       "      <td>0</td>\n",
       "      <td>1</td>\n",
       "      <td>1</td>\n",
       "      <td>1</td>\n",
       "      <td>0</td>\n",
       "      <td>0</td>\n",
       "      <td>...</td>\n",
       "      <td>0</td>\n",
       "      <td>0</td>\n",
       "      <td>0</td>\n",
       "      <td>1</td>\n",
       "      <td>0</td>\n",
       "      <td>0</td>\n",
       "      <td>0</td>\n",
       "      <td>0</td>\n",
       "      <td>0</td>\n",
       "      <td>0</td>\n",
       "    </tr>\n",
       "    <tr>\n",
       "      <th>24208</th>\n",
       "      <td>Horror</td>\n",
       "      <td>1969</td>\n",
       "      <td>0</td>\n",
       "      <td>0</td>\n",
       "      <td>0</td>\n",
       "      <td>0</td>\n",
       "      <td>0</td>\n",
       "      <td>0</td>\n",
       "      <td>0</td>\n",
       "      <td>0</td>\n",
       "      <td>...</td>\n",
       "      <td>0</td>\n",
       "      <td>1</td>\n",
       "      <td>0</td>\n",
       "      <td>0</td>\n",
       "      <td>0</td>\n",
       "      <td>0</td>\n",
       "      <td>0</td>\n",
       "      <td>0</td>\n",
       "      <td>0</td>\n",
       "      <td>0</td>\n",
       "    </tr>\n",
       "    <tr>\n",
       "      <th>1179</th>\n",
       "      <td>Adventure|Drama|War</td>\n",
       "      <td>1962</td>\n",
       "      <td>0</td>\n",
       "      <td>0</td>\n",
       "      <td>1</td>\n",
       "      <td>0</td>\n",
       "      <td>0</td>\n",
       "      <td>0</td>\n",
       "      <td>0</td>\n",
       "      <td>0</td>\n",
       "      <td>...</td>\n",
       "      <td>0</td>\n",
       "      <td>0</td>\n",
       "      <td>0</td>\n",
       "      <td>0</td>\n",
       "      <td>0</td>\n",
       "      <td>0</td>\n",
       "      <td>0</td>\n",
       "      <td>0</td>\n",
       "      <td>1</td>\n",
       "      <td>0</td>\n",
       "    </tr>\n",
       "    <tr>\n",
       "      <th>1067</th>\n",
       "      <td>Crime|Mystery|Thriller</td>\n",
       "      <td>1992</td>\n",
       "      <td>0</td>\n",
       "      <td>0</td>\n",
       "      <td>0</td>\n",
       "      <td>0</td>\n",
       "      <td>0</td>\n",
       "      <td>0</td>\n",
       "      <td>1</td>\n",
       "      <td>0</td>\n",
       "      <td>...</td>\n",
       "      <td>0</td>\n",
       "      <td>0</td>\n",
       "      <td>0</td>\n",
       "      <td>0</td>\n",
       "      <td>1</td>\n",
       "      <td>0</td>\n",
       "      <td>0</td>\n",
       "      <td>1</td>\n",
       "      <td>0</td>\n",
       "      <td>0</td>\n",
       "    </tr>\n",
       "    <tr>\n",
       "      <th>4215</th>\n",
       "      <td>Action|Drama|Romance|War</td>\n",
       "      <td>2001</td>\n",
       "      <td>0</td>\n",
       "      <td>1</td>\n",
       "      <td>0</td>\n",
       "      <td>0</td>\n",
       "      <td>0</td>\n",
       "      <td>0</td>\n",
       "      <td>0</td>\n",
       "      <td>0</td>\n",
       "      <td>...</td>\n",
       "      <td>0</td>\n",
       "      <td>0</td>\n",
       "      <td>0</td>\n",
       "      <td>0</td>\n",
       "      <td>0</td>\n",
       "      <td>1</td>\n",
       "      <td>0</td>\n",
       "      <td>0</td>\n",
       "      <td>1</td>\n",
       "      <td>0</td>\n",
       "    </tr>\n",
       "  </tbody>\n",
       "</table>\n",
       "<p>5 rows × 22 columns</p>\n",
       "</div>"
      ],
      "text/plain": [
       "                                  genres  year  (no genres listed)  Action  \\\n",
       "11314  Animation|Children|Comedy|Musical  1972                   0       0   \n",
       "24208                             Horror  1969                   0       0   \n",
       "1179                 Adventure|Drama|War  1962                   0       0   \n",
       "1067              Crime|Mystery|Thriller  1992                   0       0   \n",
       "4215            Action|Drama|Romance|War  2001                   0       1   \n",
       "\n",
       "       Adventure  Animation  Children  Comedy  Crime  Documentary  ...  \\\n",
       "11314          0          1         1       1      0            0  ...   \n",
       "24208          0          0         0       0      0            0  ...   \n",
       "1179           1          0         0       0      0            0  ...   \n",
       "1067           0          0         0       0      1            0  ...   \n",
       "4215           0          0         0       0      0            0  ...   \n",
       "\n",
       "       Film-Noir  Horror  IMAX  Musical  Mystery  Romance  Sci-Fi  Thriller  \\\n",
       "11314          0       0     0        1        0        0       0         0   \n",
       "24208          0       1     0        0        0        0       0         0   \n",
       "1179           0       0     0        0        0        0       0         0   \n",
       "1067           0       0     0        0        1        0       0         1   \n",
       "4215           0       0     0        0        0        1       0         0   \n",
       "\n",
       "       War  Western  \n",
       "11314    0        0  \n",
       "24208    0        0  \n",
       "1179     1        0  \n",
       "1067     0        0  \n",
       "4215     1        0  \n",
       "\n",
       "[5 rows x 22 columns]"
      ]
     },
     "execution_count": 4,
     "metadata": {},
     "output_type": "execute_result"
    }
   ],
   "source": [
    "lb_2 = MultiLabelBinarizer()\n",
    "Peliculas=Peliculas.join(pd.DataFrame(lb_2.fit_transform(Peliculas.genres.str.split(\"|\")), columns=lb_2.classes_, index=Peliculas.index))\n",
    "pd.concat([Peliculas[\"genres\"],Peliculas[Peliculas.columns[3:]]],axis=1).drop_duplicates().sample(5)"
   ]
  },
  {
   "cell_type": "code",
   "execution_count": 5,
   "metadata": {},
   "outputs": [
    {
     "data": {
      "text/html": [
       "<div>\n",
       "<style scoped>\n",
       "    .dataframe tbody tr th:only-of-type {\n",
       "        vertical-align: middle;\n",
       "    }\n",
       "\n",
       "    .dataframe tbody tr th {\n",
       "        vertical-align: top;\n",
       "    }\n",
       "\n",
       "    .dataframe thead th {\n",
       "        text-align: right;\n",
       "    }\n",
       "</style>\n",
       "<table border=\"1\" class=\"dataframe\">\n",
       "  <thead>\n",
       "    <tr style=\"text-align: right;\">\n",
       "      <th></th>\n",
       "      <th>movieId</th>\n",
       "      <th>title</th>\n",
       "      <th>year</th>\n",
       "      <th>Action</th>\n",
       "      <th>Adventure</th>\n",
       "      <th>Animation</th>\n",
       "      <th>Children</th>\n",
       "      <th>Comedy</th>\n",
       "      <th>Crime</th>\n",
       "      <th>Documentary</th>\n",
       "      <th>...</th>\n",
       "      <th>Fantasy</th>\n",
       "      <th>Film-Noir</th>\n",
       "      <th>Horror</th>\n",
       "      <th>Musical</th>\n",
       "      <th>Mystery</th>\n",
       "      <th>Romance</th>\n",
       "      <th>Sci-Fi</th>\n",
       "      <th>Thriller</th>\n",
       "      <th>War</th>\n",
       "      <th>Western</th>\n",
       "    </tr>\n",
       "  </thead>\n",
       "  <tbody>\n",
       "    <tr>\n",
       "      <th>14192</th>\n",
       "      <td>71184</td>\n",
       "      <td>Valentino: The Last Emperor</td>\n",
       "      <td>2008</td>\n",
       "      <td>0</td>\n",
       "      <td>0</td>\n",
       "      <td>0</td>\n",
       "      <td>0</td>\n",
       "      <td>0</td>\n",
       "      <td>0</td>\n",
       "      <td>1</td>\n",
       "      <td>...</td>\n",
       "      <td>0</td>\n",
       "      <td>0</td>\n",
       "      <td>0</td>\n",
       "      <td>0</td>\n",
       "      <td>0</td>\n",
       "      <td>0</td>\n",
       "      <td>0</td>\n",
       "      <td>0</td>\n",
       "      <td>0</td>\n",
       "      <td>0</td>\n",
       "    </tr>\n",
       "    <tr>\n",
       "      <th>19644</th>\n",
       "      <td>97186</td>\n",
       "      <td>Sinivalkoinen valhe</td>\n",
       "      <td>2012</td>\n",
       "      <td>0</td>\n",
       "      <td>0</td>\n",
       "      <td>0</td>\n",
       "      <td>0</td>\n",
       "      <td>0</td>\n",
       "      <td>0</td>\n",
       "      <td>1</td>\n",
       "      <td>...</td>\n",
       "      <td>0</td>\n",
       "      <td>0</td>\n",
       "      <td>0</td>\n",
       "      <td>0</td>\n",
       "      <td>0</td>\n",
       "      <td>0</td>\n",
       "      <td>0</td>\n",
       "      <td>0</td>\n",
       "      <td>0</td>\n",
       "      <td>0</td>\n",
       "    </tr>\n",
       "    <tr>\n",
       "      <th>6345</th>\n",
       "      <td>6455</td>\n",
       "      <td>North to Alaska</td>\n",
       "      <td>1960</td>\n",
       "      <td>0</td>\n",
       "      <td>0</td>\n",
       "      <td>0</td>\n",
       "      <td>0</td>\n",
       "      <td>1</td>\n",
       "      <td>0</td>\n",
       "      <td>0</td>\n",
       "      <td>...</td>\n",
       "      <td>0</td>\n",
       "      <td>0</td>\n",
       "      <td>0</td>\n",
       "      <td>0</td>\n",
       "      <td>0</td>\n",
       "      <td>0</td>\n",
       "      <td>0</td>\n",
       "      <td>0</td>\n",
       "      <td>0</td>\n",
       "      <td>1</td>\n",
       "    </tr>\n",
       "    <tr>\n",
       "      <th>24084</th>\n",
       "      <td>114197</td>\n",
       "      <td>Noam Chomsky: Distorted Morality</td>\n",
       "      <td>2003</td>\n",
       "      <td>0</td>\n",
       "      <td>0</td>\n",
       "      <td>0</td>\n",
       "      <td>0</td>\n",
       "      <td>0</td>\n",
       "      <td>0</td>\n",
       "      <td>1</td>\n",
       "      <td>...</td>\n",
       "      <td>0</td>\n",
       "      <td>0</td>\n",
       "      <td>0</td>\n",
       "      <td>0</td>\n",
       "      <td>0</td>\n",
       "      <td>0</td>\n",
       "      <td>0</td>\n",
       "      <td>0</td>\n",
       "      <td>0</td>\n",
       "      <td>0</td>\n",
       "    </tr>\n",
       "    <tr>\n",
       "      <th>336</th>\n",
       "      <td>340</td>\n",
       "      <td>War, The</td>\n",
       "      <td>1994</td>\n",
       "      <td>0</td>\n",
       "      <td>1</td>\n",
       "      <td>0</td>\n",
       "      <td>0</td>\n",
       "      <td>0</td>\n",
       "      <td>0</td>\n",
       "      <td>0</td>\n",
       "      <td>...</td>\n",
       "      <td>0</td>\n",
       "      <td>0</td>\n",
       "      <td>0</td>\n",
       "      <td>0</td>\n",
       "      <td>0</td>\n",
       "      <td>0</td>\n",
       "      <td>0</td>\n",
       "      <td>0</td>\n",
       "      <td>1</td>\n",
       "      <td>0</td>\n",
       "    </tr>\n",
       "  </tbody>\n",
       "</table>\n",
       "<p>5 rows × 21 columns</p>\n",
       "</div>"
      ],
      "text/plain": [
       "       movieId                             title  year  Action  Adventure  \\\n",
       "14192    71184       Valentino: The Last Emperor  2008       0          0   \n",
       "19644    97186               Sinivalkoinen valhe  2012       0          0   \n",
       "6345      6455                   North to Alaska  1960       0          0   \n",
       "24084   114197  Noam Chomsky: Distorted Morality  2003       0          0   \n",
       "336        340                          War, The  1994       0          1   \n",
       "\n",
       "       Animation  Children  Comedy  Crime  Documentary  ...  Fantasy  \\\n",
       "14192          0         0       0      0            1  ...        0   \n",
       "19644          0         0       0      0            1  ...        0   \n",
       "6345           0         0       1      0            0  ...        0   \n",
       "24084          0         0       0      0            1  ...        0   \n",
       "336            0         0       0      0            0  ...        0   \n",
       "\n",
       "       Film-Noir  Horror  Musical  Mystery  Romance  Sci-Fi  Thriller  War  \\\n",
       "14192          0       0        0        0        0       0         0    0   \n",
       "19644          0       0        0        0        0       0         0    0   \n",
       "6345           0       0        0        0        0       0         0    0   \n",
       "24084          0       0        0        0        0       0         0    0   \n",
       "336            0       0        0        0        0       0         0    1   \n",
       "\n",
       "       Western  \n",
       "14192        0  \n",
       "19644        0  \n",
       "6345         1  \n",
       "24084        0  \n",
       "336          0  \n",
       "\n",
       "[5 rows x 21 columns]"
      ]
     },
     "execution_count": 5,
     "metadata": {},
     "output_type": "execute_result"
    }
   ],
   "source": [
    "Peliculas = Peliculas.drop('genres', 1)\n",
    "Peliculas = Peliculas.drop('(no genres listed)', 1)\n",
    "Peliculas = Peliculas.drop('IMAX', 1)\n",
    "Peliculas.sample(5)"
   ]
  },
  {
   "cell_type": "markdown",
   "metadata": {},
   "source": [
    "Tamaño del dataset:"
   ]
  },
  {
   "cell_type": "code",
   "execution_count": 6,
   "metadata": {},
   "outputs": [
    {
     "data": {
      "text/plain": [
       "(27278, 21)"
      ]
     },
     "execution_count": 6,
     "metadata": {},
     "output_type": "execute_result"
    }
   ],
   "source": [
    "Peliculas.shape"
   ]
  },
  {
   "cell_type": "markdown",
   "metadata": {},
   "source": [
    "## Dataset de Calificaciones:"
   ]
  },
  {
   "cell_type": "code",
   "execution_count": 7,
   "metadata": {},
   "outputs": [
    {
     "data": {
      "text/html": [
       "<div>\n",
       "<style scoped>\n",
       "    .dataframe tbody tr th:only-of-type {\n",
       "        vertical-align: middle;\n",
       "    }\n",
       "\n",
       "    .dataframe tbody tr th {\n",
       "        vertical-align: top;\n",
       "    }\n",
       "\n",
       "    .dataframe thead th {\n",
       "        text-align: right;\n",
       "    }\n",
       "</style>\n",
       "<table border=\"1\" class=\"dataframe\">\n",
       "  <thead>\n",
       "    <tr style=\"text-align: right;\">\n",
       "      <th></th>\n",
       "      <th>userId</th>\n",
       "      <th>movieId</th>\n",
       "      <th>rating</th>\n",
       "      <th>timestamp</th>\n",
       "    </tr>\n",
       "  </thead>\n",
       "  <tbody>\n",
       "    <tr>\n",
       "      <th>14186988</th>\n",
       "      <td>97953</td>\n",
       "      <td>5956</td>\n",
       "      <td>3.50</td>\n",
       "      <td>1240520934</td>\n",
       "    </tr>\n",
       "    <tr>\n",
       "      <th>8813305</th>\n",
       "      <td>60919</td>\n",
       "      <td>457</td>\n",
       "      <td>4.00</td>\n",
       "      <td>1146322756</td>\n",
       "    </tr>\n",
       "    <tr>\n",
       "      <th>12598057</th>\n",
       "      <td>87039</td>\n",
       "      <td>920</td>\n",
       "      <td>1.50</td>\n",
       "      <td>1054230280</td>\n",
       "    </tr>\n",
       "    <tr>\n",
       "      <th>9521436</th>\n",
       "      <td>65872</td>\n",
       "      <td>109487</td>\n",
       "      <td>4.00</td>\n",
       "      <td>1415733708</td>\n",
       "    </tr>\n",
       "    <tr>\n",
       "      <th>18769594</th>\n",
       "      <td>129995</td>\n",
       "      <td>4084</td>\n",
       "      <td>3.00</td>\n",
       "      <td>990480599</td>\n",
       "    </tr>\n",
       "  </tbody>\n",
       "</table>\n",
       "</div>"
      ],
      "text/plain": [
       "          userId  movieId  rating   timestamp\n",
       "14186988   97953     5956    3.50  1240520934\n",
       "8813305    60919      457    4.00  1146322756\n",
       "12598057   87039      920    1.50  1054230280\n",
       "9521436    65872   109487    4.00  1415733708\n",
       "18769594  129995     4084    3.00   990480599"
      ]
     },
     "execution_count": 7,
     "metadata": {},
     "output_type": "execute_result"
    }
   ],
   "source": [
    "Calificaciones = pd.read_csv(\"C:/Users/Macarena/Desktop/Nueva carpeta/ratings.csv\")\n",
    "Calificaciones.sample(5)"
   ]
  },
  {
   "cell_type": "markdown",
   "metadata": {},
   "source": [
    "Consideraremos solo aquellas películas con buena calificación ya que creemos que tomarse la molestia de hacer una mala calificacion puede interpretarse como que la película disgustó más aun que si no se la hubiese calificado con ningún valor."
   ]
  },
  {
   "cell_type": "code",
   "execution_count": 8,
   "metadata": {},
   "outputs": [],
   "source": [
    "#print('Mínimo rating: ',Calificaciones_min[\"rating\"].min())\n",
    "#print('Máximo rating: ',Calificaciones_min[\"rating\"].max())"
   ]
  },
  {
   "cell_type": "code",
   "execution_count": 9,
   "metadata": {},
   "outputs": [],
   "source": [
    "#Calificaciones_min = Calificaciones_min[Calificaciones_min[\"rating\"] >= 4]\n",
    "#Comentado por falta de recursos en mi computadora personal."
   ]
  },
  {
   "cell_type": "markdown",
   "metadata": {},
   "source": [
    "Tanto la variable de tiempo como el rating no son relevantes para el análisis de ahora en más."
   ]
  },
  {
   "cell_type": "code",
   "execution_count": 10,
   "metadata": {},
   "outputs": [
    {
     "data": {
      "text/html": [
       "<div>\n",
       "<style scoped>\n",
       "    .dataframe tbody tr th:only-of-type {\n",
       "        vertical-align: middle;\n",
       "    }\n",
       "\n",
       "    .dataframe tbody tr th {\n",
       "        vertical-align: top;\n",
       "    }\n",
       "\n",
       "    .dataframe thead th {\n",
       "        text-align: right;\n",
       "    }\n",
       "</style>\n",
       "<table border=\"1\" class=\"dataframe\">\n",
       "  <thead>\n",
       "    <tr style=\"text-align: right;\">\n",
       "      <th></th>\n",
       "      <th>userId</th>\n",
       "      <th>movieId</th>\n",
       "    </tr>\n",
       "  </thead>\n",
       "  <tbody>\n",
       "    <tr>\n",
       "      <th>9172167</th>\n",
       "      <td>63381</td>\n",
       "      <td>185</td>\n",
       "    </tr>\n",
       "    <tr>\n",
       "      <th>8856220</th>\n",
       "      <td>61187</td>\n",
       "      <td>457</td>\n",
       "    </tr>\n",
       "    <tr>\n",
       "      <th>10071156</th>\n",
       "      <td>69664</td>\n",
       "      <td>1222</td>\n",
       "    </tr>\n",
       "    <tr>\n",
       "      <th>15221992</th>\n",
       "      <td>105216</td>\n",
       "      <td>16</td>\n",
       "    </tr>\n",
       "    <tr>\n",
       "      <th>13888065</th>\n",
       "      <td>95949</td>\n",
       "      <td>3812</td>\n",
       "    </tr>\n",
       "  </tbody>\n",
       "</table>\n",
       "</div>"
      ],
      "text/plain": [
       "          userId  movieId\n",
       "9172167    63381      185\n",
       "8856220    61187      457\n",
       "10071156   69664     1222\n",
       "15221992  105216       16\n",
       "13888065   95949     3812"
      ]
     },
     "execution_count": 10,
     "metadata": {},
     "output_type": "execute_result"
    }
   ],
   "source": [
    "Calificaciones = Calificaciones.drop('rating', 1)\n",
    "Calificaciones = Calificaciones.drop('timestamp', 1)\n",
    "Calificaciones.sample(5)"
   ]
  },
  {
   "cell_type": "markdown",
   "metadata": {},
   "source": [
    "Tamaño del dataset:"
   ]
  },
  {
   "cell_type": "code",
   "execution_count": 11,
   "metadata": {},
   "outputs": [
    {
     "data": {
      "text/plain": [
       "(20000263, 2)"
      ]
     },
     "execution_count": 11,
     "metadata": {},
     "output_type": "execute_result"
    }
   ],
   "source": [
    "Calificaciones.shape"
   ]
  },
  {
   "cell_type": "code",
   "execution_count": 12,
   "metadata": {},
   "outputs": [
    {
     "data": {
      "text/plain": [
       "(138493,)"
      ]
     },
     "execution_count": 12,
     "metadata": {},
     "output_type": "execute_result"
    }
   ],
   "source": [
    "Calificaciones['userId'].unique().shape"
   ]
  },
  {
   "cell_type": "code",
   "execution_count": 13,
   "metadata": {},
   "outputs": [
    {
     "data": {
      "text/plain": [
       "(26744,)"
      ]
     },
     "execution_count": 13,
     "metadata": {},
     "output_type": "execute_result"
    }
   ],
   "source": [
    "Calificaciones['movieId'].unique().shape"
   ]
  },
  {
   "cell_type": "code",
   "execution_count": 14,
   "metadata": {},
   "outputs": [
    {
     "data": {
      "text/plain": [
       "movieId\n",
       "296       67310\n",
       "356       66172\n",
       "318       63366\n",
       "593       63299\n",
       "480       59715\n",
       "260       54502\n",
       "110       53769\n",
       "589       52244\n",
       "2571      51334\n",
       "527       50054\n",
       "1         49695\n",
       "457       49581\n",
       "150       47777\n",
       "780       47048\n",
       "50        47006\n",
       "1210      46839\n",
       "592       46054\n",
       "1196      45313\n",
       "2858      44987\n",
       "32        44980\n",
       "590       44208\n",
       "1198      43295\n",
       "608       43272\n",
       "47        43249\n",
       "380       43159\n",
       "588       41842\n",
       "377       41562\n",
       "1270      41426\n",
       "858       41355\n",
       "2959      40106\n",
       "          ...  \n",
       "110006        1\n",
       "84691         1\n",
       "84689         1\n",
       "110032        1\n",
       "110034        1\n",
       "110042        1\n",
       "110046        1\n",
       "84680         1\n",
       "110052        1\n",
       "110056        1\n",
       "110061        1\n",
       "110063        1\n",
       "110070        1\n",
       "110086        1\n",
       "110090        1\n",
       "110097        1\n",
       "84660         1\n",
       "110114        1\n",
       "84565         1\n",
       "110134        1\n",
       "84540         1\n",
       "110140        1\n",
       "84538         1\n",
       "110163        1\n",
       "110167        1\n",
       "84534         1\n",
       "84500         1\n",
       "84442         1\n",
       "84436         1\n",
       "131262        1\n",
       "Length: 26744, dtype: int64"
      ]
     },
     "execution_count": 14,
     "metadata": {},
     "output_type": "execute_result"
    }
   ],
   "source": [
    "Calificaciones.groupby('movieId').size().sort_values(ascending=False)"
   ]
  },
  {
   "cell_type": "markdown",
   "metadata": {},
   "source": [
    "## Reglas de Asociación entre Películas (acotado):"
   ]
  },
  {
   "cell_type": "code",
   "execution_count": 15,
   "metadata": {},
   "outputs": [
    {
     "data": {
      "text/plain": [
       "(20000263, 3)"
      ]
     },
     "execution_count": 15,
     "metadata": {},
     "output_type": "execute_result"
    }
   ],
   "source": [
    "Calificaciones_Peliculas = pd.merge(Calificaciones[['userId','movieId']], Peliculas[['movieId','title']] ,on='movieId', how= \"inner\")\n",
    "Calificaciones_Peliculas.shape"
   ]
  },
  {
   "cell_type": "markdown",
   "metadata": {},
   "source": [
    "Calificaciones_Peliculas tiene la misma cantidad de filas que Calificaciones, es decir que todas las películas calificadas existen en Peliculas."
   ]
  },
  {
   "cell_type": "code",
   "execution_count": 16,
   "metadata": {},
   "outputs": [],
   "source": [
    "Calificaciones_Peliculas_Min = Calificaciones_Peliculas.sample(1000)"
   ]
  },
  {
   "cell_type": "code",
   "execution_count": 17,
   "metadata": {},
   "outputs": [
    {
     "name": "stdout",
     "output_type": "stream",
     "text": [
      "[[102 \"Amelie (Fabuleux destin d'Amélie Poulain, Le)\"]\n",
      " [387 'Willard']\n",
      " [394 'Goldfinger']\n",
      " ...\n",
      " [138162 'Clockwatchers']\n",
      " [138225 'Rushmore']\n",
      " [138417 'Paper Chase, The']]\n"
     ]
    }
   ],
   "source": [
    "Calificaciones_Peliculas_Min = Calificaciones_Peliculas_Min.sort_values( by=['userId','movieId'], axis=0, ascending=True, inplace=False, kind='quicksort', na_position='last')\n",
    "Calificaciones_Peliculas_Min_Array = Calificaciones_Peliculas_Min.values[:,[0,2]]\n",
    "print(Calificaciones_Peliculas_Min_Array)"
   ]
  },
  {
   "cell_type": "code",
   "execution_count": 18,
   "metadata": {},
   "outputs": [
    {
     "name": "stdout",
     "output_type": "stream",
     "text": [
      "[[\"Amelie (Fabuleux destin d'Amélie Poulain, Le)\"], ['Willard'], ['Goldfinger'], ['High Noon'], ['Working Girl'], [\"St. Elmo's Fire\"], ['Spider-Man 2'], ['Pirates of the Caribbean: On Stranger Tides'], ['Exit to Eden'], ['Tomorrow Never Dies'], ['Force 10 from Navarone'], ['What a Girl Wants'], ['Sleepless in Seattle'], ['Winged Migration (Peuple migrateur, Le)'], ['Dogville'], ['Station Agent, The'], [\"Something's Gotta Give\"], ['Leaving Las Vegas'], ['Leaving Las Vegas'], ['Forrest Gump'], [\"Boys Don't Cry\"], ['Silence of the Lambs, The'], ['Quest, The'], ['Roxanne'], [\"Harry Potter and the Sorcerer's Stone (a.k.a. Harry Potter and the Philosopher's Stone)\"], ['Mighty Morphin Power Rangers: The Movie'], ['Pay It Forward', 'Gangs of New York'], ['Judgment Night'], ['Silence of the Lambs, The'], ['Madagascar'], ['101 Dalmatians'], ['Exam'], ['Charade'], ['Hoop Dreams'], ['Star Wars: Episode IV - A New Hope'], ['Beverly Hills Cop II'], ['Seven Samurai (Shichinin no samurai)'], ['Road to Perdition'], ['Super Size Me'], ['Merchant of Venice, The'], ['Starman'], ['Platoon'], ['Crimson Tide'], ['Moonrise Kingdom'], ['Clockers'], ['Game, The'], ['Glory'], ['Magnolia'], ['Interview with the Vampire: The Vampire Chronicles'], ['Another Stakeout'], ['Ideal Husband, An'], ['Get Shorty'], ['Madagascar'], ['Bats'], ['Wallace & Gromit: The Wrong Trousers'], ['King Kong'], ['Mating Habits of the Earthbound Human, The'], ['Pulp Fiction'], ['Frighteners, The'], ['Dave'], ['Swiss Family Robinson'], ['Elizabeth'], ['Alien³ (a.k.a. Alien 3)'], ['Capote'], [\"Don't Look Back\"], ['Scarface'], ['L.A. Confidential'], ['Attack of the Killer Tomatoes!'], ['Black Hawk Down'], ['Bull Durham'], ['300'], ['Wallace & Gromit: A Close Shave'], ['Unzipped'], ['Mexican, The'], ['Dr. No'], ['Almost Famous'], ['Four Weddings and a Funeral'], ['Spy Kids 3-D: Game Over'], ['Cosmos'], ['Stepford Wives, The'], ['Grosse Pointe Blank'], ['Wallace & Gromit: The Wrong Trousers'], ['Garden State'], ['Ben-Hur'], ['Star Wars: Episode II - Attack of the Clones'], ['Thin Red Line, The'], ['Annie Hall'], ['Odd Couple, The'], ['Unbreakable'], ['Reality Bites'], ['Patton'], ['Quiz Show'], ['Hurt Locker, The'], ['Manchurian Candidate, The'], ['Running Scared'], ['Pirates of the Caribbean: The Curse of the Black Pearl'], ['Dark Knight Rises, The'], ['Insider, The'], ['Legend of Boggy Creek, The'], ['Beautiful Mind, A'], ['Misery'], ['Wicker Man, The'], [\"Bug's Life, A\"], ['28 Days Later'], ['I Am Legend'], ['Starship Troopers'], ['Air Force One'], ['Lolita'], ['Craft, The'], ['Edge of Tomorrow'], ['Memento'], ['Life of David Gale, The'], ['Fifth Element, The'], ['Starman'], ['Jonah Hex'], [\"God Said 'Ha!'\"], ['Strawberry and Chocolate (Fresa y chocolate)'], ['Avengers, The'], ['Star Wars: Episode IV - A New Hope'], ['Sneakers'], ['Imaginarium of Doctor Parnassus, The'], ['Knocked Up'], ['Batman Returns'], ['Die Hard: With a Vengeance'], ['Groundhog Day'], ['Exorcist, The'], ['Mission: Impossible'], ['Waking Ned Devine (a.k.a. Waking Ned)'], ['Maria Full of Grace (Maria, Llena eres de gracia)'], ['Prestige, The'], ['Lord of the Rings: The Return of the King, The'], ['Sleepers'], ['Shaft'], ['L.A. Confidential'], ['Bottle Rocket'], ['Jurassic Park'], ['Someone to Watch Over Me'], ['Haunting, The'], ['Transformers'], ['Conspiracy Theory'], ['Donnie Brasco'], ['Chain Reaction'], [\"Ocean's Thirteen\"], ['Aliens'], ['O Brother, Where Art Thou?'], [\"Kiki's Delivery Service (Majo no takkyûbin)\"], ['Chasing Amy'], ['Parents'], ['Eating Raoul'], [\"Bug's Life, A\"], ['Minority Report'], ['Fargo'], ['Meet Joe Black'], ['Peacemaker, The'], ['Billy Elliot'], ['Con Air'], ['Deep Red (Profondo rosso)'], [\"Child's Play 2\"], ['Die Another Day'], ['Labyrinth'], ['Shark Tale'], ['When a Man Loves a Woman'], ['The Butterfly Effect'], ['Batman Begins'], ['Ruthless People'], ['Coneheads'], ['American History X'], ['Player, The'], ['African Queen, The'], ['Blues Brothers, The'], ['Get Carter'], ['Garden State'], ['Full Metal Jacket'], [\"Devil's Own, The\"], ['EDtv'], ['Avengers, The'], ['Candyman'], ['Ice Age'], ['Edward Scissorhands'], ['Lord of the Rings: The Return of the King, The'], ['Perfect World, A'], ['Monsters, Inc.'], ['Star Trek V: The Final Frontier'], ['Erin Brockovich'], ['Johnny Mnemonic'], ['Goodfellas'], ['Snake Eyes'], ['Good Luck Chuck'], ['Skulls, The'], ['Go'], [\"Amelie (Fabuleux destin d'Amélie Poulain, Le)\"], ['Vanilla Sky'], ['Ninotchka'], ['Terminator 2: Judgment Day'], ['Sting, The'], ['Silver Linings Playbook'], ['Great Escape, The'], ['Iron Man'], ['Raiders of the Lost Ark (Indiana Jones and the Raiders of the Lost Ark)'], ['Blade Runner'], ['Crazies, The'], ['Desperado'], ['City Lights'], ['Supercop (Police Story 3: Supercop) (Jing cha gu shi III: Chao ji jing cha)'], ['Substitute, The'], ['Batman'], ['Monsters, Inc.', 'Priceless (Hors de prix)'], ['Remains of the Day, The'], ['Shawshank Redemption, The'], ['Twelve Monkeys (a.k.a. 12 Monkeys)'], ['Recruit, The'], ['Aviator, The'], ['Down Periscope'], ['Bachelor Party'], ['Prom Night'], ['We Were Soldiers'], ['Raven, The'], ['Lord of the Rings: The Two Towers, The'], ['Clerks'], ['Antitrust'], ['Conspiracy Theory'], ['Ghostbusters (a.k.a. Ghost Busters)'], ['X-Men'], ['Anastasia'], ['Dr. Strangelove or: How I Learned to Stop Worrying and Love the Bomb'], ['Odd Couple, The'], ['Office Space'], ['Tora! Tora! Tora!', 'Cold Mountain'], ['Clockwork Orange, A'], ['Yellow Submarine'], ['American History X'], ['Pulp Fiction'], ['Shrek'], ['Batman'], ['Persuasion'], ['Like Water for Chocolate (Como agua para chocolate)', 'Terms of Endearment'], ['Godfather: Part II, The'], ['Dances with Wolves'], ['Flintstones, The'], ['Léon: The Professional (a.k.a. The Professional) (Léon)'], ['Incredible Shrinking Man, The'], ['Batman Beyond: Return of the Joker'], ['Freaks'], ['Graduate, The'], ['Pirates of the Caribbean: The Curse of the Black Pearl'], ['Squid and the Whale, The'], ['Hollow Man'], ['Space Jam'], ['Sleepless in Seattle'], ['Godfather, The'], ['Dumb & Dumber (Dumb and Dumber)'], ['Reversal of Fortune'], ['Casino Royale'], ['Arachnophobia'], ['Tsotsi'], ['Godzilla'], ['Liar Liar'], ['Up in the Air'], ['Last Samurai, The'], ['Burn After Reading'], ['Chocolat'], ['Three Colors: Red (Trois couleurs: Rouge)'], ['Beauty of the Day (Belle de jour)'], ['Shawshank Redemption, The'], ['Family Man, The'], ['War, The'], ['Galaxy Quest', 'Steal This Film'], ['Mummy, The'], ['Grass Harp, The'], ['Tender Mercies'], ['Romancing the Stone'], ['Good Will Hunting'], ['Ghost and the Darkness, The'], ['Seabiscuit'], ['Poltergeist'], ['Guinevere'], [\"Pan's Labyrinth (Laberinto del fauno, El)\"], ['October Sky'], ['Avatar'], ['Others, The'], ['16 Blocks'], ['Lifeforce'], ['GoldenEye'], ['Chicken Run'], ['Dances with Wolves'], ['Gorillas in the Mist'], [\"Schindler's List\"], ['Footloose'], ['Die Hard: With a Vengeance'], [\"Ferris Bueller's Day Off\"], ['Little Nicky'], [\"All the President's Men\"], ['World War Z'], ['Varsity Blues'], ['Vertigo'], ['Secret Garden, The'], ['Jurassic Park III'], ['Chocolat'], ['Top Gun'], ['Stargate'], ['Cold Mountain'], ['Jurassic Park'], ['Pretty in Pink'], ['Down Periscope'], ['Small Soldiers'], ['Fatal Attraction'], ['Hello Mary Lou: Prom Night II'], ['South Park: Bigger, Longer and Uncut'], ['Escape from New York'], ['Mortal Kombat'], ['North by Northwest'], ['Blues Brothers 2000'], ['Batman Forever', 'Matrix Reloaded, The'], ['Meet the Parents'], ['Doctor, The'], ['Full Metal Jacket'], ['Right Stuff, The'], ['Shine'], ['Taking Chance'], ['Artist, The'], ['Naked Gun 2 1/2: The Smell of Fear, The'], ['Exit to Eden'], ['Fantastic Four'], ['Lion King, The'], ['Virgin Suicides, The'], ['Chasing Amy'], ['The Butterfly Effect'], ['Office Space'], ['What About Bob?'], ['Lord of the Rings: The Two Towers, The'], ['Wrongfully Accused'], ['Do the Right Thing'], ['Boot, Das (Boat, The)'], ['Ugly Truth, The'], ['Double Jeopardy'], ['Bubba Ho-tep'], ['Truman Show, The'], ['Lethal Weapon'], ['Lawnmower Man 2: Beyond Cyberspace'], ['Home for the Holidays'], ['North by Northwest'], ['Resurrecting the Champ'], ['Ghost Story'], ['Curdled'], ['Beauty and the Beast'], ['Condition Red (Beyond the Law)'], ['Austin Powers: The Spy Who Shagged Me'], ['Seven (a.k.a. Se7en)'], ['Ace Ventura: Pet Detective'], ['Big Lebowski, The'], ['Indiana Jones and the Temple of Doom'], ['Lone Star'], [\"Boys Don't Cry\"], ['Down Periscope'], ['The Raid 2: Berandal'], ['Crow, The'], ['Dark Knight, The'], ['Milk Money'], ['Fargo'], ['Win Win'], ['Rocky IV'], ['Adventures in Babysitting'], ['Adventures of Ford Fairlane, The'], ['Celtic Pride'], ['Being There'], ['Sixth Sense, The'], ['Empire Records'], ['American Beauty'], ['Stone'], ['Dances with Wolves'], ['Great Escape, The'], ['Seven Pounds'], ['Aladdin'], [\"Pan's Labyrinth (Laberinto del fauno, El)\"], ['Pulp Fiction'], ['French Kiss'], [\"Charlie's Angels: Full Throttle\"], ['Of Mice and Men'], ['Final Fantasy: The Spirits Within'], ['Evil Dead, The'], ['Doomsday'], ['Fantasia 2000'], ['In the Line of Fire'], ['Annie Hall'], ['Witches of Eastwick, The'], ['Powerpuff Girls, The'], ['Getting Even with Dad'], ['Galaxy Quest'], ['Die Hard: With a Vengeance'], ['Batman'], ['Snow Falling on Cedars'], [\"What's Eating Gilbert Grape\"], ['Sentinel, The'], ['Hancock'], ['Parent Trap, The'], ['Titanic'], ['Star Trek: First Contact'], ['Ghost'], ['Princess and the Warrior, The (Krieger und die Kaiserin, Der)'], ['Dead Man'], [\"Breakfast at Tiffany's\"], ['Island of Dr. Moreau, The'], ['Rollerball'], ['Night of the Generals, The'], ['Robots'], ['Beautiful Mind, A'], ['Superbad'], ['Club Dread'], ['Rumble in the Bronx (Hont faan kui)'], ['Godfather, The'], ['Hunt for Red October, The'], ['October Sky'], ['Extreme Measures'], ['Shadow of the Vampire'], ['Rock, The'], ['Hero (Ying xiong)'], ['From the Earth to the Moon'], ['Untouchables, The'], ['Frighteners, The'], [\"Jumpin' Jack Flash\"], ['Toy Story 2'], ['Mrs. Doubtfire'], ['Bourne Supremacy, The'], ['Star Wars: Episode III - Revenge of the Sith'], ['Friday the 13th Part 2'], ['Snow White and the Seven Dwarfs'], ['Wallace & Gromit: The Wrong Trousers'], ['Pretty Woman'], ['Point Break'], ['Philadelphia'], ['I Know What You Did Last Summer'], ['Sting, The'], ['Farewell My Concubine (Ba wang bie ji)'], ['Babe'], ['Scarface'], ['Zulu Dawn'], ['Mask, The', 'Total Recall'], ['Terminator 2: Judgment Day'], ['What About Bob?'], ['Friday the 13th Part VIII: Jason Takes Manhattan'], ['Heavenly Creatures'], ['Jaws 3-D'], ['Solaris'], ['Never Been Kissed'], ['Jurassic Park'], ['Dances with Wolves'], ['Bio-Dome'], ['Far and Away'], ['Star Trek: The Motion Picture'], ['Monty Python and the Holy Grail'], ['Fugitive, The'], ['Raiders of the Lost Ark (Indiana Jones and the Raiders of the Lost Ark)'], ['Way Home, The (Jibeuro)'], ['Dune'], ['French Connection, The'], ['Dante 01'], ['Halloween: The Curse of Michael Myers (Halloween 6: The Curse of Michael Myers)'], ['Big'], ['Some Kind of Wonderful'], ['Independence Day (a.k.a. ID4)'], ['Soylent Green'], [\"Bug's Life, A\"], ['Ronin'], ['Fifth Element, The'], ['Drömkåken'], ['Major League'], ['Down Periscope'], ['Casablanca'], ['Beauty and the Beast'], ['L.A. Confidential'], ['Hunger'], ['Fifth Element, The'], ['Show Me Love (Fucking Åmål)'], [\"Shaft's Big Score!\"], [\"There's Something About Mary\"], ['Raising Arizona'], ['Queen of the Damned'], ['Gods Must Be Crazy, The'], ['Eddie Murphy Delirious'], [\"Charlie's Angels: Full Throttle\"], ['Splash'], ['Princess Bride, The'], ['Predator 2'], ['Under Siege 2: Dark Territory', 'Bushwhacked'], ['Something to Talk About'], ['Face/Off'], ['E.T. the Extra-Terrestrial'], ['American Beauty'], ['Game, The'], ['Alien'], ['Showgirls'], ['True Lies'], [\"Jumpin' Jack Flash\"], ['Platoon'], ['Edward Scissorhands'], ['Bushwhacked'], ['Indiana Jones and the Last Crusade'], ['Magnolia'], ['As Good as It Gets'], ['Beauty and the Beast'], ['Diabolique'], ['About a Boy'], ['Angus'], ['Land Before Time III: The Time of the Great Giving'], ['Blade Runner'], ['Mysterious Skin'], ['American Beauty'], ['Dragonfly'], [\"What's Eating Gilbert Grape\"], ['Casino'], ['Office Space'], ['Butch Cassidy and the Sundance Kid', 'Name of the Rose, The (Name der Rose, Der)'], ['Coming Home'], [\"Ocean's Eleven\"], ['Sound of Music, The'], ['Mission: Impossible'], ['Music of the Heart'], ['Bikini Beach'], ['Cool Hand Luke'], ['Of Mice and Men'], ['Forget Paris'], [\"Romy and Michele's High School Reunion\"], ['Who Framed Roger Rabbit?'], ['Ghostbusters (a.k.a. Ghost Busters)'], ['League of Their Own, A'], ['Battleship'], ['Adventures of Milo and Otis, The (Koneko monogatari)'], ['Waking Ned Devine (a.k.a. Waking Ned)'], ['Drag Me to Hell'], ['Mary Poppins'], ['Twister'], ['Stranger than Fiction'], ['Lethal Weapon 2'], ['Fight Club'], ['Untouchables, The'], ['Exit Through the Gift Shop'], ['Memento'], ['Pink Panther, The'], ['Terminal, The'], ['City Slickers'], ['Richie Rich'], ['Double Jeopardy'], ['As Good as It Gets'], ['Fearless'], ['X-Men'], ['Star Wars: Episode V - The Empire Strikes Back'], ['Office Space'], ['Conversation, The', 'School of Rock'], ['Dunston Checks In'], ['Saw III'], ['My Left Foot'], ['Windtalkers'], ['Zack and Miri Make a Porno'], ['O Brother, Where Art Thou?'], ['Rob Roy'], [\"Mary Shelley's Frankenstein (Frankenstein)\"], ['Wyatt Earp'], ['Silence of the Lambs, The'], ['Scary Movie'], ['Kung Fu Hustle (Gong fu)'], ['Pinocchio'], ['Goldfinger'], ['Drumline'], ['Cape Fear'], ['Clerks'], ['Net, The'], ['Quantum of Solace'], ['Crocodile Dundee in Los Angeles'], ['Austin Powers: The Spy Who Shagged Me'], ['Bad Santa'], ['Godfather: Part III, The'], ['Nine Months'], ['Hotel Rwanda'], ['Free Willy 2: The Adventure Home'], ['James and the Giant Peach'], ['Gandhi'], ['Snakes on a Plane'], ['Face/Off'], ['Mission: Impossible II'], ['Mrs. Winterbourne'], [\"Howl's Moving Castle (Hauru no ugoku shiro)\"], [\"Bride of Chucky (Child's Play 4)\"], ['Stupids, The'], ['Candyman: Farewell to the Flesh'], ['Twins'], ['High Fidelity'], ['Star Trek: First Contact'], ['Austin Powers: International Man of Mystery'], ['Charade'], ['Cinema Paradiso (Nuovo cinema Paradiso)'], ['Brady Bunch Movie, The'], ['Mars Attacks!'], ['Super Mario Bros.'], ['40-Year-Old Virgin, The'], ['Shaun of the Dead'], ['Arlington Road'], ['Undercover Brother'], ['Mission, The'], ['Ghostbusters (a.k.a. Ghost Busters)'], ['Bridge on the River Kwai, The'], ['Snow Falling on Cedars'], ['Terminator 3: Rise of the Machines'], ['Forrest Gump'], ['Ghost'], ['Confidence'], ['Gomorrah (Gomorra)'], ['Fifth Element, The'], ['Lord of the Rings: The Return of the King, The'], ['Miss Congeniality'], ['Braveheart'], ['Up'], ['Jay and Silent Bob Strike Back'], ['Roman Holiday'], ['Official Story, The (La historia oficial)'], ['Life Is Beautiful (La Vita è bella)'], [\"Wallace and Gromit in 'A Matter of Loaf and Death'\"], ['Cape Fear'], ['Dick Tracy'], ['Dumb & Dumber (Dumb and Dumber)'], ['Pineapple Express'], [\"Barney's Great Adventure\"], ['Ghostbusters (a.k.a. Ghost Busters)'], ['Twister'], ['American Pie'], ['Casino Royale'], ['Kill Bill: Vol. 1'], ['Blow'], [\"Monty Python's Life of Brian\"], [\"Knockin' on Heaven's Door\"], ['Soldier'], ['Waiting for Guffman'], ['Die Another Day'], ['Kissed'], ['Spy Hard'], ['Gattaca'], ['Time Machine, The'], ['My Stepmother Is an Alien'], ['Die Hard: With a Vengeance'], ['Adventures of Pinocchio, The'], ['Super Mario Bros.'], ['Galaxy Quest'], ['Death Becomes Her'], ['Under Siege 2: Dark Territory'], ['The Prince'], ['Waterworld'], ['Election'], ['Living in Oblivion'], ['Fast and the Furious: Tokyo Drift, The (Fast and the Furious 3, The)'], ['True Lies'], ['Ronin'], ['Rush'], ['Goodfellas'], ['Elizabeth'], ['Rookie, The'], ['Ace Ventura: When Nature Calls'], ['Specialist, The'], ['King Kong'], ['Willy Wonka & the Chocolate Factory'], ['Inception'], ['Net, The'], ['Coneheads'], ['Eyes Wide Shut'], ['Femme Fatale'], ['Sorority Boys'], ['Shanghai Noon'], ['K-PAX'], ['Robin Hood: Prince of Thieves'], ['Mrs. Doubtfire'], ['Poltergeist II: The Other Side'], ['King Kong'], ['Working Girl'], ['Dawn of the Dead'], ['Odd Couple, The'], [\"Jacob's Ladder\"], ['Night of the Living Dead'], ['Dark Knight Rises, The'], ['Kids'], ['Corruptor, The'], ['Karate Kid, Part III, The'], ['JFK'], ['American Beauty'], ['Beauty and the Beast (La belle et la bête)'], ['Willy Wonka & the Chocolate Factory'], ['Erin Brockovich'], ['Legends of the Fall'], ['Apollo 13'], ['While You Were Sleeping'], ['Campaign, The'], ['Roman Holiday'], ['Excess Baggage'], ['Trading Places'], ['Conan the Barbarian'], ['Weird Science'], ['Conversation, The'], ['Rock, The'], ['Control'], ['Abyss, The'], ['Spider-Man 2'], ['Anastasia'], ['Blues Brothers, The'], [\"Bug's Life, A\"], ['Jerry Maguire'], ['War of the Worlds'], ['Sgt. Bilko'], ['Babe'], ['Footloose'], ['Monty Python and the Holy Grail'], ['Man for All Seasons, A'], [\"Peter's Friends\"], ['Free Willy'], ['Judge Dredd'], ['Austin Powers: The Spy Who Shagged Me'], ['Blow'], ['Beautiful Mind, A'], ['Lost World: Jurassic Park, The'], ['Traffic'], ['Batman'], ['Avalon'], ['Swingers'], ['Hamlet'], ['Escape from New York'], ['Common Wealth (Comunidad, La)'], ['To Sir with Love'], [\"Amores Perros (Love's a Bitch)\"], ['Ray'], [\"'burbs, The\"], ['Crouching Tiger, Hidden Dragon (Wo hu cang long)'], ['V for Vendetta'], ['American Beauty'], ['Top Gun'], ['Good Will Hunting'], ['Stargate'], ['Volcano'], ['Hairspray'], ['It Happened One Night'], ['Pirates of the Caribbean: The Curse of the Black Pearl'], ['Elizabeth'], ['Frankenstein'], ['Monty Python and the Holy Grail'], ['Elephant Man, The'], ['As Good as It Gets'], ['Master and Commander: The Far Side of the World'], ['Tin Cup'], ['Natural Born Killers'], ['Die Hard'], ['2 Fast 2 Furious (Fast and the Furious 2, The)'], [\"Ocean's Thirteen\"], ['Citizen Kane'], ['Mortal Kombat'], ['Ali'], ['Hero (Ying xiong)'], ['Sixth Sense, The'], ['Bulworth'], ['Die Hard'], ['Conquest of the Planet of the Apes'], ['Nightmare on Elm Street, A'], ['Counterfeiters, The (Die Fälscher)'], ['The Interview'], ['Ghostbusters II'], ['Color Purple, The'], ['Star Trek: Generations'], ['Dr. No'], ['Independence Day (a.k.a. ID4)'], ['Risky Business'], ['Midnight Run'], ['Son in Law'], ['Spy Kids'], ['American Buffalo'], ['Star Trek IV: The Voyage Home'], ['Wordplay'], ['Jumanji'], ['Birds, The'], ['Old Yeller'], ['Imagine Me & You'], [\"Schindler's List\"], ['Cliffhanger'], ['Dazed and Confused'], ['Dumbo'], ['Muppets Take Manhattan, The'], ['Under Siege'], ['Who Framed Roger Rabbit?', 'Crank'], ['Simple Plan, A'], ['Pitch Black'], ['Hercules'], ['Parenthood'], ['Big Blue, The (Grand bleu, Le)'], ['Kull the Conqueror'], ['Rififi (Du rififi chez les hommes)'], ['Dark Knight, The'], ['Rain Man'], ['Devil in a Blue Dress'], ['2001: A Space Odyssey'], ['Lantana'], ['True Lies'], ['Groundhog Day'], ['World Trade Center'], ['2001: A Space Odyssey'], ['Silence of the Lambs, The'], ['Primer'], ['Taxi Driver'], ['Seven (a.k.a. Se7en)'], [\"Things to Do in Denver When You're Dead\"], ['Dawn of the Dead'], ['Few Good Men, A'], ['Ghostbusters (a.k.a. Ghost Busters)'], ['(500) Days of Summer'], ['Clerks'], ['Social Network, The'], ['Imagine: John Lennon'], ['Kill Bill: Vol. 2'], ['50/50'], ['Grumpier Old Men'], ['Dragonheart'], ['Requiem for a Dream'], ['Ace Ventura: Pet Detective'], ['Apollo 13'], ['Cell, The'], ['Grease 2'], ['Serpico'], ['Shakespeare in Love'], ['Jaws'], ['Groundhog Day'], ['Straight Story, The'], ['Friday the 13th'], ['Bonnie and Clyde'], ['Little Miss Sunshine'], ['Snatch'], ['Butch Cassidy and the Sundance Kid'], ['El Dorado'], ['Three Kings'], ['Patriot, The'], ['3:10 to Yuma'], ['Lord of the Rings: The Fellowship of the Ring, The'], ['M*A*S*H (a.k.a. MASH)'], ['Kids'], ['Godfather: Part II, The'], ['Desperately Seeking Susan'], ['Exotica'], ['Spider-Man 3'], ['It Might Get Loud'], ['Horror of Dracula (Dracula)'], [\"Hitchhiker's Guide to the Galaxy, The\"], ['Now You See Me'], ['Jersey Girl', \"Brink's Job, The\"], ['Mystery Men'], ['Magnolia'], ['Ghost'], ['Labyrinth'], ['Armageddon'], ['L.A. Confidential'], ['Bittersweet Life, A (Dalkomhan insaeng)'], ['Corrina, Corrina'], ['Perfect Murder, A'], ['Slumdog Millionaire'], ['National Security'], ['Ghostbusters (a.k.a. Ghost Busters)'], ['Little Mermaid, The'], ['Sleepy Hollow'], ['Age of Innocence, The'], ['Silence of the Lambs, The'], ['Alexander Nevsky (Aleksandr Nevskiy)'], ['Scarface'], ['You Only Live Twice'], ['Four Weddings and a Funeral'], ['Taxi Driver'], ['Mask, The'], ['Outsourced'], ['Nine to Five (a.k.a. 9 to 5)'], ['Twelve Monkeys (a.k.a. 12 Monkeys)'], ['What Lies Beneath'], ['My Cousin Vinny'], ['Anaconda'], ['Trust'], ['Rush Hour 2'], ['Nashville'], ['Sneakers'], ['Raiders of the Lost Ark (Indiana Jones and the Raiders of the Lost Ark)'], ['Forrest Gump'], ['Lord of the Rings: The Fellowship of the Ring, The'], ['Full Metal Jacket'], ['Devil Wears Prada, The'], ['Better Off Dead...'], ['Alien'], [\"There's Something About Mary\"], ['Whole Nine Yards, The'], ['Outbreak'], ['Catch Me If You Can'], ['Pocahontas'], ['Factotum'], ['Mulholland Drive'], ['Shining, The'], ['Unzipped'], ['Forrest Gump'], ['Dial M for Murder'], ['Pirates of the Caribbean: The Curse of the Black Pearl'], ['Seven (a.k.a. Se7en)'], ['P.S. I Love You'], ['Conspiracy Theory'], ['Grown Ups 2'], ['Program, The'], ['Batman'], ['Mission to Mars'], ['Young Guns'], ['Idiocracy'], ['World Is Not Enough, The'], ['Ruthless People'], ['Ghost'], ['Clan of the Cave Bear, The'], ['Traffic'], ['Raisin in the Sun, A'], ['Lawrence of Arabia'], ['Fugitive, The'], [\"Schindler's List\"], ['Disturbia'], ['Finding Neverland'], ['Harry Potter and the Deathly Hallows: Part 2'], ['Saint, The'], ['Armageddon'], ['Serial Mom'], ['X2: X-Men United'], ['Nightmare Before Christmas, The'], ['Father of the Bride Part II'], ['Dumbo'], ['Gremlins'], ['Star Trek: First Contact'], ['Toy Story 2'], ['Fistful of Dollars, A (Per un pugno di dollari)'], ['Dancer in the Dark'], ['Kill Bill: Vol. 1'], ['Election'], ['Perfect World, A'], ['Green Lantern'], ['Toy Story'], ['Firm, The'], ['Remember the Titans'], ['Braveheart'], ['Time Machine, The'], ['Eternal Sunshine of the Spotless Mind'], ['Apocalypse Now'], ['Seven Swords (Chat gim)'], ['Nine Months'], ['Scream'], ['True Lies'], ['20,000 Leagues Under the Sea'], ['Encino Man'], ['Black Hawk Down'], ['Treasure of the Sierra Madre, The'], ['Dune'], ['Angels & Demons'], ['Dead Snow (Død snø)'], ['Decalogue, The (Dekalog)', 'Head-On (Gegen die Wand)'], ['Falling Down'], ['Gingerbread Man, The'], ['Boys'], ['Bull Durham'], ['Eyes Wide Shut'], ['Clueless'], ['Bedknobs and Broomsticks'], ['Police Academy 2: Their First Assignment'], ['Brotherhood of the Wolf (Pacte des loups, Le)'], ['Santa Clause, The'], ['Blade: Trinity'], ['American History X'], ['Mickey Blue Eyes'], ['Willow'], ['Heartbreakers'], ['High Noon'], ['Falling Down'], ['Sleepers'], ['Captain Blood'], ['Notting Hill'], ['Towering Inferno, The'], ['Stand by Me'], ['Ray'], [\"Nobody's Fool\"], ['Jurassic Park III'], ['Tender Mercies'], ['101 Dalmatians (One Hundred and One Dalmatians)'], ['Terms of Endearment'], ['Thing, The', 'For a Few Dollars More (Per qualche dollaro in più)'], ['Month by the Lake, A'], ['Bulletproof Monk'], ['Swarm, The'], ['Clockwatchers'], ['Rushmore'], ['Paper Chase, The']]\n"
     ]
    }
   ],
   "source": [
    "transactions=[]\n",
    "for userId, title in groupby(Calificaciones_Peliculas_Min_Array, lambda x: x[0]):\n",
    "    transactions.append([item[1] for item in title])\n",
    "print(transactions)"
   ]
  },
  {
   "cell_type": "code",
   "execution_count": 19,
   "metadata": {},
   "outputs": [],
   "source": [
    "itemsets, rules = apriori(transactions, min_support=0.001,  min_confidence=0.001, max_length=2)"
   ]
  },
  {
   "cell_type": "code",
   "execution_count": 20,
   "metadata": {},
   "outputs": [
    {
     "name": "stdout",
     "output_type": "stream",
     "text": [
      "{Galaxy Quest} -> {Steal This Film} (conf: 0.333, supp: 0.001, lift: 328.667, conv: 1.498)\n",
      "{Under Siege 2: Dark Territory} -> {Bushwhacked} (conf: 0.500, supp: 0.001, lift: 246.500, conv: 1.996)\n",
      "{Bushwhacked} -> {Under Siege 2: Dark Territory} (conf: 0.500, supp: 0.001, lift: 246.500, conv: 1.996)\n",
      "{Butch Cassidy and the Sundance Kid} -> {Name of the Rose, The (Name der Rose, Der)} (conf: 0.500, supp: 0.001, lift: 493.000, conv: 1.998)\n",
      "{Cold Mountain} -> {Tora! Tora! Tora!} (conf: 0.500, supp: 0.001, lift: 493.000, conv: 1.998)\n",
      "{Conversation, The} -> {School of Rock} (conf: 0.500, supp: 0.001, lift: 493.000, conv: 1.998)\n",
      "{Who Framed Roger Rabbit?} -> {Crank} (conf: 0.500, supp: 0.001, lift: 493.000, conv: 1.998)\n",
      "{Terms of Endearment} -> {Like Water for Chocolate (Como agua para chocolate)} (conf: 0.500, supp: 0.001, lift: 493.000, conv: 1.998)\n",
      "{Mask, The} -> {Total Recall} (conf: 0.500, supp: 0.001, lift: 493.000, conv: 1.998)\n",
      "{Monsters, Inc.} -> {Priceless (Hors de prix)} (conf: 0.500, supp: 0.001, lift: 493.000, conv: 1.998)\n",
      "{Matrix Reloaded, The} -> {Batman Forever} (conf: 1.000, supp: 0.001, lift: 986.000, conv: 998985801.217)\n",
      "{Batman Forever} -> {Matrix Reloaded, The} (conf: 1.000, supp: 0.001, lift: 986.000, conv: 998985801.217)\n",
      "{Jersey Girl} -> {Brink's Job, The} (conf: 1.000, supp: 0.001, lift: 986.000, conv: 998985801.217)\n",
      "{Brink's Job, The} -> {Jersey Girl} (conf: 1.000, supp: 0.001, lift: 986.000, conv: 998985801.217)\n",
      "{Name of the Rose, The (Name der Rose, Der)} -> {Butch Cassidy and the Sundance Kid} (conf: 1.000, supp: 0.001, lift: 493.000, conv: 997971602.434)\n",
      "{Tora! Tora! Tora!} -> {Cold Mountain} (conf: 1.000, supp: 0.001, lift: 493.000, conv: 997971602.434)\n",
      "{School of Rock} -> {Conversation, The} (conf: 1.000, supp: 0.001, lift: 493.000, conv: 997971602.434)\n",
      "{Crank} -> {Who Framed Roger Rabbit?} (conf: 1.000, supp: 0.001, lift: 493.000, conv: 997971602.434)\n",
      "{Head-On (Gegen die Wand)} -> {Decalogue, The (Dekalog)} (conf: 1.000, supp: 0.001, lift: 986.000, conv: 998985801.217)\n",
      "{Decalogue, The (Dekalog)} -> {Head-On (Gegen die Wand)} (conf: 1.000, supp: 0.001, lift: 986.000, conv: 998985801.217)\n",
      "{Thing, The} -> {For a Few Dollars More (Per qualche dollaro in più)} (conf: 1.000, supp: 0.001, lift: 986.000, conv: 998985801.217)\n",
      "{For a Few Dollars More (Per qualche dollaro in più)} -> {Thing, The} (conf: 1.000, supp: 0.001, lift: 986.000, conv: 998985801.217)\n",
      "{Steal This Film} -> {Galaxy Quest} (conf: 1.000, supp: 0.001, lift: 328.667, conv: 996957403.651)\n",
      "{Pay It Forward} -> {Gangs of New York} (conf: 1.000, supp: 0.001, lift: 986.000, conv: 998985801.217)\n",
      "{Gangs of New York} -> {Pay It Forward} (conf: 1.000, supp: 0.001, lift: 986.000, conv: 998985801.217)\n",
      "{Like Water for Chocolate (Como agua para chocolate)} -> {Terms of Endearment} (conf: 1.000, supp: 0.001, lift: 493.000, conv: 997971602.434)\n",
      "{Total Recall} -> {Mask, The} (conf: 1.000, supp: 0.001, lift: 493.000, conv: 997971602.434)\n",
      "{Priceless (Hors de prix)} -> {Monsters, Inc.} (conf: 1.000, supp: 0.001, lift: 493.000, conv: 997971602.434)\n"
     ]
    }
   ],
   "source": [
    "rules=sorted(rules, key=lambda rule: rule.confidence)\n",
    "for rule in rules:\n",
    "    print(rule)"
   ]
  },
  {
   "cell_type": "code",
   "execution_count": 21,
   "metadata": {},
   "outputs": [
    {
     "data": {
      "text/plain": [
       "(28,)"
      ]
     },
     "execution_count": 21,
     "metadata": {},
     "output_type": "execute_result"
    }
   ],
   "source": [
    "np.shape(rules)"
   ]
  },
  {
   "cell_type": "markdown",
   "metadata": {},
   "source": [
    "## Ejemplos citados en Resumen:"
   ]
  },
  {
   "cell_type": "markdown",
   "metadata": {},
   "source": [
    "Ejemplo 1"
   ]
  },
  {
   "cell_type": "code",
   "execution_count": 29,
   "metadata": {},
   "outputs": [
    {
     "data": {
      "text/html": [
       "<div>\n",
       "<style scoped>\n",
       "    .dataframe tbody tr th:only-of-type {\n",
       "        vertical-align: middle;\n",
       "    }\n",
       "\n",
       "    .dataframe tbody tr th {\n",
       "        vertical-align: top;\n",
       "    }\n",
       "\n",
       "    .dataframe thead th {\n",
       "        text-align: right;\n",
       "    }\n",
       "</style>\n",
       "<table border=\"1\" class=\"dataframe\">\n",
       "  <thead>\n",
       "    <tr style=\"text-align: right;\">\n",
       "      <th></th>\n",
       "      <th>userId</th>\n",
       "      <th>movieId</th>\n",
       "      <th>title</th>\n",
       "    </tr>\n",
       "  </thead>\n",
       "  <tbody>\n",
       "    <tr>\n",
       "      <th>9032551</th>\n",
       "      <td>45300</td>\n",
       "      <td>6365</td>\n",
       "      <td>Matrix Reloaded, The</td>\n",
       "    </tr>\n",
       "  </tbody>\n",
       "</table>\n",
       "</div>"
      ],
      "text/plain": [
       "         userId  movieId                 title\n",
       "9032551   45300     6365  Matrix Reloaded, The"
      ]
     },
     "execution_count": 29,
     "metadata": {},
     "output_type": "execute_result"
    }
   ],
   "source": [
    "Calificaciones_Peliculas_Min[Calificaciones_Peliculas_Min['title'] == 'Matrix Reloaded, The']"
   ]
  },
  {
   "cell_type": "code",
   "execution_count": 30,
   "metadata": {},
   "outputs": [
    {
     "data": {
      "text/html": [
       "<div>\n",
       "<style scoped>\n",
       "    .dataframe tbody tr th:only-of-type {\n",
       "        vertical-align: middle;\n",
       "    }\n",
       "\n",
       "    .dataframe tbody tr th {\n",
       "        vertical-align: top;\n",
       "    }\n",
       "\n",
       "    .dataframe thead th {\n",
       "        text-align: right;\n",
       "    }\n",
       "</style>\n",
       "<table border=\"1\" class=\"dataframe\">\n",
       "  <thead>\n",
       "    <tr style=\"text-align: right;\">\n",
       "      <th></th>\n",
       "      <th>userId</th>\n",
       "      <th>movieId</th>\n",
       "      <th>title</th>\n",
       "    </tr>\n",
       "  </thead>\n",
       "  <tbody>\n",
       "    <tr>\n",
       "      <th>7422341</th>\n",
       "      <td>45300</td>\n",
       "      <td>153</td>\n",
       "      <td>Batman Forever</td>\n",
       "    </tr>\n",
       "    <tr>\n",
       "      <th>9032551</th>\n",
       "      <td>45300</td>\n",
       "      <td>6365</td>\n",
       "      <td>Matrix Reloaded, The</td>\n",
       "    </tr>\n",
       "  </tbody>\n",
       "</table>\n",
       "</div>"
      ],
      "text/plain": [
       "         userId  movieId                 title\n",
       "7422341   45300      153        Batman Forever\n",
       "9032551   45300     6365  Matrix Reloaded, The"
      ]
     },
     "execution_count": 30,
     "metadata": {},
     "output_type": "execute_result"
    }
   ],
   "source": [
    "Calificaciones_Peliculas_Min[Calificaciones_Peliculas_Min['userId'] == 45300]"
   ]
  },
  {
   "cell_type": "markdown",
   "metadata": {},
   "source": [
    "Ejemplo 2"
   ]
  },
  {
   "cell_type": "code",
   "execution_count": 31,
   "metadata": {},
   "outputs": [
    {
     "data": {
      "text/html": [
       "<div>\n",
       "<style scoped>\n",
       "    .dataframe tbody tr th:only-of-type {\n",
       "        vertical-align: middle;\n",
       "    }\n",
       "\n",
       "    .dataframe tbody tr th {\n",
       "        vertical-align: top;\n",
       "    }\n",
       "\n",
       "    .dataframe thead th {\n",
       "        text-align: right;\n",
       "    }\n",
       "</style>\n",
       "<table border=\"1\" class=\"dataframe\">\n",
       "  <thead>\n",
       "    <tr style=\"text-align: right;\">\n",
       "      <th></th>\n",
       "      <th>userId</th>\n",
       "      <th>movieId</th>\n",
       "      <th>title</th>\n",
       "    </tr>\n",
       "  </thead>\n",
       "  <tbody>\n",
       "    <tr>\n",
       "      <th>6889833</th>\n",
       "      <td>38655</td>\n",
       "      <td>3175</td>\n",
       "      <td>Galaxy Quest</td>\n",
       "    </tr>\n",
       "    <tr>\n",
       "      <th>6891564</th>\n",
       "      <td>55594</td>\n",
       "      <td>3175</td>\n",
       "      <td>Galaxy Quest</td>\n",
       "    </tr>\n",
       "    <tr>\n",
       "      <th>6895059</th>\n",
       "      <td>90652</td>\n",
       "      <td>3175</td>\n",
       "      <td>Galaxy Quest</td>\n",
       "    </tr>\n",
       "  </tbody>\n",
       "</table>\n",
       "</div>"
      ],
      "text/plain": [
       "         userId  movieId         title\n",
       "6889833   38655     3175  Galaxy Quest\n",
       "6891564   55594     3175  Galaxy Quest\n",
       "6895059   90652     3175  Galaxy Quest"
      ]
     },
     "execution_count": 31,
     "metadata": {},
     "output_type": "execute_result"
    }
   ],
   "source": [
    "Calificaciones_Peliculas_Min[Calificaciones_Peliculas_Min['title'] == 'Galaxy Quest']"
   ]
  },
  {
   "cell_type": "code",
   "execution_count": 32,
   "metadata": {},
   "outputs": [
    {
     "data": {
      "text/html": [
       "<div>\n",
       "<style scoped>\n",
       "    .dataframe tbody tr th:only-of-type {\n",
       "        vertical-align: middle;\n",
       "    }\n",
       "\n",
       "    .dataframe tbody tr th {\n",
       "        vertical-align: top;\n",
       "    }\n",
       "\n",
       "    .dataframe thead th {\n",
       "        text-align: right;\n",
       "    }\n",
       "</style>\n",
       "<table border=\"1\" class=\"dataframe\">\n",
       "  <thead>\n",
       "    <tr style=\"text-align: right;\">\n",
       "      <th></th>\n",
       "      <th>userId</th>\n",
       "      <th>movieId</th>\n",
       "      <th>title</th>\n",
       "    </tr>\n",
       "  </thead>\n",
       "  <tbody>\n",
       "    <tr>\n",
       "      <th>6889833</th>\n",
       "      <td>38655</td>\n",
       "      <td>3175</td>\n",
       "      <td>Galaxy Quest</td>\n",
       "    </tr>\n",
       "    <tr>\n",
       "      <th>19964056</th>\n",
       "      <td>38655</td>\n",
       "      <td>74512</td>\n",
       "      <td>Steal This Film</td>\n",
       "    </tr>\n",
       "  </tbody>\n",
       "</table>\n",
       "</div>"
      ],
      "text/plain": [
       "          userId  movieId            title\n",
       "6889833    38655     3175     Galaxy Quest\n",
       "19964056   38655    74512  Steal This Film"
      ]
     },
     "execution_count": 32,
     "metadata": {},
     "output_type": "execute_result"
    }
   ],
   "source": [
    "Calificaciones_Peliculas_Min[Calificaciones_Peliculas_Min['userId'] == 38655]"
   ]
  },
  {
   "cell_type": "code",
   "execution_count": 33,
   "metadata": {},
   "outputs": [
    {
     "data": {
      "text/html": [
       "<div>\n",
       "<style scoped>\n",
       "    .dataframe tbody tr th:only-of-type {\n",
       "        vertical-align: middle;\n",
       "    }\n",
       "\n",
       "    .dataframe tbody tr th {\n",
       "        vertical-align: top;\n",
       "    }\n",
       "\n",
       "    .dataframe thead th {\n",
       "        text-align: right;\n",
       "    }\n",
       "</style>\n",
       "<table border=\"1\" class=\"dataframe\">\n",
       "  <thead>\n",
       "    <tr style=\"text-align: right;\">\n",
       "      <th></th>\n",
       "      <th>userId</th>\n",
       "      <th>movieId</th>\n",
       "      <th>title</th>\n",
       "    </tr>\n",
       "  </thead>\n",
       "  <tbody>\n",
       "    <tr>\n",
       "      <th>6891564</th>\n",
       "      <td>55594</td>\n",
       "      <td>3175</td>\n",
       "      <td>Galaxy Quest</td>\n",
       "    </tr>\n",
       "  </tbody>\n",
       "</table>\n",
       "</div>"
      ],
      "text/plain": [
       "         userId  movieId         title\n",
       "6891564   55594     3175  Galaxy Quest"
      ]
     },
     "execution_count": 33,
     "metadata": {},
     "output_type": "execute_result"
    }
   ],
   "source": [
    "Calificaciones_Peliculas_Min[Calificaciones_Peliculas_Min['userId'] == 55594]"
   ]
  },
  {
   "cell_type": "code",
   "execution_count": 34,
   "metadata": {},
   "outputs": [
    {
     "data": {
      "text/html": [
       "<div>\n",
       "<style scoped>\n",
       "    .dataframe tbody tr th:only-of-type {\n",
       "        vertical-align: middle;\n",
       "    }\n",
       "\n",
       "    .dataframe tbody tr th {\n",
       "        vertical-align: top;\n",
       "    }\n",
       "\n",
       "    .dataframe thead th {\n",
       "        text-align: right;\n",
       "    }\n",
       "</style>\n",
       "<table border=\"1\" class=\"dataframe\">\n",
       "  <thead>\n",
       "    <tr style=\"text-align: right;\">\n",
       "      <th></th>\n",
       "      <th>userId</th>\n",
       "      <th>movieId</th>\n",
       "      <th>title</th>\n",
       "    </tr>\n",
       "  </thead>\n",
       "  <tbody>\n",
       "    <tr>\n",
       "      <th>6895059</th>\n",
       "      <td>90652</td>\n",
       "      <td>3175</td>\n",
       "      <td>Galaxy Quest</td>\n",
       "    </tr>\n",
       "  </tbody>\n",
       "</table>\n",
       "</div>"
      ],
      "text/plain": [
       "         userId  movieId         title\n",
       "6895059   90652     3175  Galaxy Quest"
      ]
     },
     "execution_count": 34,
     "metadata": {},
     "output_type": "execute_result"
    }
   ],
   "source": [
    "Calificaciones_Peliculas_Min[Calificaciones_Peliculas_Min['userId'] == 90652]"
   ]
  },
  {
   "cell_type": "code",
   "execution_count": null,
   "metadata": {},
   "outputs": [],
   "source": []
  }
 ],
 "metadata": {
  "kernelspec": {
   "display_name": "Python 3",
   "language": "python",
   "name": "python3"
  },
  "language_info": {
   "codemirror_mode": {
    "name": "ipython",
    "version": 3
   },
   "file_extension": ".py",
   "mimetype": "text/x-python",
   "name": "python",
   "nbconvert_exporter": "python",
   "pygments_lexer": "ipython3",
   "version": "3.7.3"
  }
 },
 "nbformat": 4,
 "nbformat_minor": 2
}
